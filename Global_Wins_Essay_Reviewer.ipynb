{
  "nbformat": 4,
  "nbformat_minor": 0,
  "metadata": {
    "colab": {
      "provenance": []
    },
    "kernelspec": {
      "name": "python3",
      "display_name": "Python 3"
    },
    "language_info": {
      "name": "python"
    }
  },
  "cells": [
    {
      "cell_type": "code",
      "source": [
        "!pip install streamlit\n",
        "!pip install pyngrok\n",
        "!pip install nltk\n"
      ],
      "metadata": {
        "colab": {
          "base_uri": "https://localhost:8080/"
        },
        "id": "syXyvuZNKrb4",
        "outputId": "bad51f4b-09da-47ac-c50a-6e58048a4258"
      },
      "execution_count": 58,
      "outputs": [
        {
          "output_type": "stream",
          "name": "stdout",
          "text": [
            "Requirement already satisfied: streamlit in /usr/local/lib/python3.10/dist-packages (1.40.2)\n",
            "Requirement already satisfied: altair<6,>=4.0 in /usr/local/lib/python3.10/dist-packages (from streamlit) (4.2.2)\n",
            "Requirement already satisfied: blinker<2,>=1.0.0 in /usr/local/lib/python3.10/dist-packages (from streamlit) (1.9.0)\n",
            "Requirement already satisfied: cachetools<6,>=4.0 in /usr/local/lib/python3.10/dist-packages (from streamlit) (5.5.0)\n",
            "Requirement already satisfied: click<9,>=7.0 in /usr/local/lib/python3.10/dist-packages (from streamlit) (8.1.7)\n",
            "Requirement already satisfied: numpy<3,>=1.23 in /usr/local/lib/python3.10/dist-packages (from streamlit) (1.26.4)\n",
            "Requirement already satisfied: packaging<25,>=20 in /usr/local/lib/python3.10/dist-packages (from streamlit) (24.2)\n",
            "Requirement already satisfied: pandas<3,>=1.4.0 in /usr/local/lib/python3.10/dist-packages (from streamlit) (2.2.2)\n",
            "Requirement already satisfied: pillow<12,>=7.1.0 in /usr/local/lib/python3.10/dist-packages (from streamlit) (11.0.0)\n",
            "Requirement already satisfied: protobuf<6,>=3.20 in /usr/local/lib/python3.10/dist-packages (from streamlit) (4.25.5)\n",
            "Requirement already satisfied: pyarrow>=7.0 in /usr/local/lib/python3.10/dist-packages (from streamlit) (17.0.0)\n",
            "Requirement already satisfied: requests<3,>=2.27 in /usr/local/lib/python3.10/dist-packages (from streamlit) (2.32.3)\n",
            "Requirement already satisfied: rich<14,>=10.14.0 in /usr/local/lib/python3.10/dist-packages (from streamlit) (13.9.4)\n",
            "Requirement already satisfied: tenacity<10,>=8.1.0 in /usr/local/lib/python3.10/dist-packages (from streamlit) (9.0.0)\n",
            "Requirement already satisfied: toml<2,>=0.10.1 in /usr/local/lib/python3.10/dist-packages (from streamlit) (0.10.2)\n",
            "Requirement already satisfied: typing-extensions<5,>=4.3.0 in /usr/local/lib/python3.10/dist-packages (from streamlit) (4.12.2)\n",
            "Requirement already satisfied: watchdog<7,>=2.1.5 in /usr/local/lib/python3.10/dist-packages (from streamlit) (6.0.0)\n",
            "Requirement already satisfied: gitpython!=3.1.19,<4,>=3.0.7 in /usr/local/lib/python3.10/dist-packages (from streamlit) (3.1.43)\n",
            "Requirement already satisfied: pydeck<1,>=0.8.0b4 in /usr/local/lib/python3.10/dist-packages (from streamlit) (0.9.1)\n",
            "Requirement already satisfied: tornado<7,>=6.0.3 in /usr/local/lib/python3.10/dist-packages (from streamlit) (6.3.3)\n",
            "Requirement already satisfied: entrypoints in /usr/local/lib/python3.10/dist-packages (from altair<6,>=4.0->streamlit) (0.4)\n",
            "Requirement already satisfied: jinja2 in /usr/local/lib/python3.10/dist-packages (from altair<6,>=4.0->streamlit) (3.1.4)\n",
            "Requirement already satisfied: jsonschema>=3.0 in /usr/local/lib/python3.10/dist-packages (from altair<6,>=4.0->streamlit) (4.23.0)\n",
            "Requirement already satisfied: toolz in /usr/local/lib/python3.10/dist-packages (from altair<6,>=4.0->streamlit) (0.12.1)\n",
            "Requirement already satisfied: gitdb<5,>=4.0.1 in /usr/local/lib/python3.10/dist-packages (from gitpython!=3.1.19,<4,>=3.0.7->streamlit) (4.0.11)\n",
            "Requirement already satisfied: python-dateutil>=2.8.2 in /usr/local/lib/python3.10/dist-packages (from pandas<3,>=1.4.0->streamlit) (2.8.2)\n",
            "Requirement already satisfied: pytz>=2020.1 in /usr/local/lib/python3.10/dist-packages (from pandas<3,>=1.4.0->streamlit) (2024.2)\n",
            "Requirement already satisfied: tzdata>=2022.7 in /usr/local/lib/python3.10/dist-packages (from pandas<3,>=1.4.0->streamlit) (2024.2)\n",
            "Requirement already satisfied: charset-normalizer<4,>=2 in /usr/local/lib/python3.10/dist-packages (from requests<3,>=2.27->streamlit) (3.4.0)\n",
            "Requirement already satisfied: idna<4,>=2.5 in /usr/local/lib/python3.10/dist-packages (from requests<3,>=2.27->streamlit) (3.10)\n",
            "Requirement already satisfied: urllib3<3,>=1.21.1 in /usr/local/lib/python3.10/dist-packages (from requests<3,>=2.27->streamlit) (2.2.3)\n",
            "Requirement already satisfied: certifi>=2017.4.17 in /usr/local/lib/python3.10/dist-packages (from requests<3,>=2.27->streamlit) (2024.8.30)\n",
            "Requirement already satisfied: markdown-it-py>=2.2.0 in /usr/local/lib/python3.10/dist-packages (from rich<14,>=10.14.0->streamlit) (3.0.0)\n",
            "Requirement already satisfied: pygments<3.0.0,>=2.13.0 in /usr/local/lib/python3.10/dist-packages (from rich<14,>=10.14.0->streamlit) (2.18.0)\n",
            "Requirement already satisfied: smmap<6,>=3.0.1 in /usr/local/lib/python3.10/dist-packages (from gitdb<5,>=4.0.1->gitpython!=3.1.19,<4,>=3.0.7->streamlit) (5.0.1)\n",
            "Requirement already satisfied: MarkupSafe>=2.0 in /usr/local/lib/python3.10/dist-packages (from jinja2->altair<6,>=4.0->streamlit) (3.0.2)\n",
            "Requirement already satisfied: attrs>=22.2.0 in /usr/local/lib/python3.10/dist-packages (from jsonschema>=3.0->altair<6,>=4.0->streamlit) (24.2.0)\n",
            "Requirement already satisfied: jsonschema-specifications>=2023.03.6 in /usr/local/lib/python3.10/dist-packages (from jsonschema>=3.0->altair<6,>=4.0->streamlit) (2024.10.1)\n",
            "Requirement already satisfied: referencing>=0.28.4 in /usr/local/lib/python3.10/dist-packages (from jsonschema>=3.0->altair<6,>=4.0->streamlit) (0.35.1)\n",
            "Requirement already satisfied: rpds-py>=0.7.1 in /usr/local/lib/python3.10/dist-packages (from jsonschema>=3.0->altair<6,>=4.0->streamlit) (0.21.0)\n",
            "Requirement already satisfied: mdurl~=0.1 in /usr/local/lib/python3.10/dist-packages (from markdown-it-py>=2.2.0->rich<14,>=10.14.0->streamlit) (0.1.2)\n",
            "Requirement already satisfied: six>=1.5 in /usr/local/lib/python3.10/dist-packages (from python-dateutil>=2.8.2->pandas<3,>=1.4.0->streamlit) (1.16.0)\n",
            "Collecting pyngrok\n",
            "  Downloading pyngrok-7.2.1-py3-none-any.whl.metadata (8.3 kB)\n",
            "Requirement already satisfied: PyYAML>=5.1 in /usr/local/lib/python3.10/dist-packages (from pyngrok) (6.0.2)\n",
            "Downloading pyngrok-7.2.1-py3-none-any.whl (22 kB)\n",
            "Installing collected packages: pyngrok\n",
            "Successfully installed pyngrok-7.2.1\n",
            "Requirement already satisfied: nltk in /usr/local/lib/python3.10/dist-packages (3.9.1)\n",
            "Requirement already satisfied: click in /usr/local/lib/python3.10/dist-packages (from nltk) (8.1.7)\n",
            "Requirement already satisfied: joblib in /usr/local/lib/python3.10/dist-packages (from nltk) (1.4.2)\n",
            "Requirement already satisfied: regex>=2021.8.3 in /usr/local/lib/python3.10/dist-packages (from nltk) (2024.9.11)\n",
            "Requirement already satisfied: tqdm in /usr/local/lib/python3.10/dist-packages (from nltk) (4.66.6)\n"
          ]
        }
      ]
    },
    {
      "cell_type": "code",
      "source": [
        "import streamlit as st\n",
        "import nltk\n",
        "from nltk.tokenize import sent_tokenize\n",
        "import random\n",
        "\n",
        "nltk.download('punkt')\n",
        "\n"
      ],
      "metadata": {
        "colab": {
          "base_uri": "https://localhost:8080/"
        },
        "id": "i9ZMZ11tKreL",
        "outputId": "9752a59f-6bab-4ae9-8cb1-085ba59e25ec"
      },
      "execution_count": 59,
      "outputs": [
        {
          "output_type": "stream",
          "name": "stderr",
          "text": [
            "[nltk_data] Downloading package punkt to /root/nltk_data...\n",
            "[nltk_data]   Unzipping tokenizers/punkt.zip.\n"
          ]
        },
        {
          "output_type": "execute_result",
          "data": {
            "text/plain": [
              "True"
            ]
          },
          "metadata": {},
          "execution_count": 59
        }
      ]
    },
    {
      "cell_type": "code",
      "source": [
        "# Writing the Streamlit code to a file called global_wins.py\n",
        "\n",
        "streamlit_code = \"\"\"\n",
        "import streamlit as st\n",
        "import nltk\n",
        "from nltk.tokenize import sent_tokenize\n",
        "import random\n",
        "\n",
        "# Download necessary resources\n",
        "nltk.download('punkt')\n",
        "\n",
        "# Function to restructure the essay based on essay type\n",
        "def restructure_essay(essay, essay_type):\n",
        "    sentences = sent_tokenize(essay)\n",
        "\n",
        "    # Define essay structures for each type\n",
        "    if essay_type == \"Leadership\":\n",
        "        structure = [\"Introduction\", \"First Example\", \"Second Example\", \"Third Example\", \"Conclusion\"]\n",
        "    elif essay_type == \"Networking\":\n",
        "        structure = [\"Introduction\", \"First Example\", \"Second Example\", \"Third Example\", \"Conclusion\"]\n",
        "    elif essay_type == \"Study in the UK\":\n",
        "        structure = [\"Introduction\", \"First School\", \"Second School\", \"Third School\", \"Conclusion\"]\n",
        "    elif essay_type == \"Career Plan\":\n",
        "        structure = [\"Introduction\", \"Short Plan\", \"Mid Plan\", \"Long Term Plan\", \"Conclusion\"]\n",
        "    else:\n",
        "        return \"Invalid Essay Type\"\n",
        "\n",
        "    # Restructure the essay by shuffling sentences\n",
        "    random.shuffle(sentences)\n",
        "\n",
        "    # Create a dictionary to store the structured essay\n",
        "    structured_essay = {section: [] for section in structure}\n",
        "    section_idx = 0\n",
        "    for sentence in sentences:\n",
        "        structured_essay[structure[section_idx]].append(sentence)\n",
        "        section_idx = (section_idx + 1) % len(structure)  # Loop through sections\n",
        "\n",
        "    return structured_essay\n",
        "\n",
        "# Main Streamlit function\n",
        "def main():\n",
        "    st.title(\"Global Wins - Chevening Essay Restructurer\")\n",
        "\n",
        "    # Essay type selection\n",
        "    essay_type = st.selectbox(\"Choose Essay Type\",\n",
        "                              [\"Leadership\", \"Networking\", \"Study in the UK\", \"Career Plan\"])\n",
        "\n",
        "    # Input essay from user\n",
        "    essay_input = st.text_area(\"Paste Your Essay Here:\")\n",
        "\n",
        "    if st.button(\"Restructure Essay\"):\n",
        "        if essay_input:\n",
        "            result = restructure_essay(essay_input, essay_type)\n",
        "            st.write(\"Restructured Essay:\")\n",
        "            for section, content in result.items():\n",
        "                st.subheader(section)\n",
        "                st.write(\" \".join(content))\n",
        "        else:\n",
        "            st.error(\"Please enter an essay to restructure.\")\n",
        "\n",
        "if __name__ == \"__main__\":\n",
        "    main()\n",
        "\"\"\"\n",
        "\n",
        "# Write the code to a file\n",
        "with open(\"/content/global_wins.py\", \"w\") as file:\n",
        "    file.write(streamlit_code)\n",
        "\n",
        "# Confirm the file has been created\n",
        "\"/content/global_wins.py has been created.\"\n"
      ],
      "metadata": {
        "colab": {
          "base_uri": "https://localhost:8080/",
          "height": 35
        },
        "id": "LCrd6snSKrjc",
        "outputId": "9cc7b211-21e2-4fff-8834-aaabe672845f"
      },
      "execution_count": 61,
      "outputs": [
        {
          "output_type": "execute_result",
          "data": {
            "text/plain": [
              "'/content/global_wins.py has been created.'"
            ],
            "application/vnd.google.colaboratory.intrinsic+json": {
              "type": "string"
            }
          },
          "metadata": {},
          "execution_count": 61
        }
      ]
    },
    {
      "cell_type": "code",
      "source": [
        "# Check the first few lines of the file to verify it was created correctly\n",
        "with open(\"/content/global_wins.py\", \"r\") as file:\n",
        "    print(file.read())\n"
      ],
      "metadata": {
        "colab": {
          "base_uri": "https://localhost:8080/"
        },
        "id": "X4UJqHDnKrmV",
        "outputId": "be443fb9-547f-493c-d15a-ebace0b93f16"
      },
      "execution_count": 62,
      "outputs": [
        {
          "output_type": "stream",
          "name": "stdout",
          "text": [
            "\n",
            "import streamlit as st\n",
            "import nltk\n",
            "from nltk.tokenize import sent_tokenize\n",
            "import random\n",
            "\n",
            "# Download necessary resources\n",
            "nltk.download('punkt')\n",
            "\n",
            "# Function to restructure the essay based on essay type\n",
            "def restructure_essay(essay, essay_type):\n",
            "    sentences = sent_tokenize(essay)\n",
            "    \n",
            "    # Define essay structures for each type\n",
            "    if essay_type == \"Leadership\":\n",
            "        structure = [\"Introduction\", \"First Example\", \"Second Example\", \"Third Example\", \"Conclusion\"]\n",
            "    elif essay_type == \"Networking\":\n",
            "        structure = [\"Introduction\", \"First Example\", \"Second Example\", \"Third Example\", \"Conclusion\"]\n",
            "    elif essay_type == \"Study in the UK\":\n",
            "        structure = [\"Introduction\", \"First School\", \"Second School\", \"Third School\", \"Conclusion\"]\n",
            "    elif essay_type == \"Career Plan\":\n",
            "        structure = [\"Introduction\", \"Short Plan\", \"Mid Plan\", \"Long Term Plan\", \"Conclusion\"]\n",
            "    else:\n",
            "        return \"Invalid Essay Type\"\n",
            "    \n",
            "    # Restructure the essay by shuffling sentences\n",
            "    random.shuffle(sentences)\n",
            "    \n",
            "    # Create a dictionary to store the structured essay\n",
            "    structured_essay = {section: [] for section in structure}\n",
            "    section_idx = 0\n",
            "    for sentence in sentences:\n",
            "        structured_essay[structure[section_idx]].append(sentence)\n",
            "        section_idx = (section_idx + 1) % len(structure)  # Loop through sections\n",
            "    \n",
            "    return structured_essay\n",
            "\n",
            "# Main Streamlit function\n",
            "def main():\n",
            "    st.title(\"Global Wins - Chevening Essay Restructurer\")\n",
            "    \n",
            "    # Essay type selection\n",
            "    essay_type = st.selectbox(\"Choose Essay Type\", \n",
            "                              [\"Leadership\", \"Networking\", \"Study in the UK\", \"Career Plan\"])\n",
            "    \n",
            "    # Input essay from user\n",
            "    essay_input = st.text_area(\"Paste Your Essay Here:\")\n",
            "    \n",
            "    if st.button(\"Restructure Essay\"):\n",
            "        if essay_input:\n",
            "            result = restructure_essay(essay_input, essay_type)\n",
            "            st.write(\"Restructured Essay:\")\n",
            "            for section, content in result.items():\n",
            "                st.subheader(section)\n",
            "                st.write(\" \".join(content))\n",
            "        else:\n",
            "            st.error(\"Please enter an essay to restructure.\")\n",
            "    \n",
            "if __name__ == \"__main__\":\n",
            "    main()\n",
            "\n"
          ]
        }
      ]
    },
    {
      "cell_type": "code",
      "source": [
        "#from pyngrok import ngrok # This import already exists in your code, no need to repeat it.\n",
        "import os\n",
        "\n",
        "\n",
        "# **Get your authtoken from ngrok.com and replace 'YOUR_AUTHTOKEN'**\n",
        "ngrok.set_auth_token('2pU0jMgGE3TOX9nryvBY8I2GdWP_5wwSVHjDT1cpekU2RBSnp')\n",
        "\n",
        "# Start a tunnel to the Streamlit port. Specify the port with the 'addr' parameter\n",
        "public_url = ngrok.connect(addr='8501')  # Changed here"
      ],
      "metadata": {
        "id": "IHa0IjwnKrrm"
      },
      "execution_count": 67,
      "outputs": []
    },
    {
      "cell_type": "code",
      "source": [
        "from pyngrok import ngrok\n",
        "import os\n",
        "\n",
        "\n",
        "\n",
        "# Write the streamlit code to a .py file\n",
        "streamlit_code = \"\"\"\n",
        "import streamlit as st\n",
        "import nltk\n",
        "from nltk.tokenize import sent_tokenize\n",
        "import random\n",
        "\n",
        "nltk.download('punkt')\n",
        "\n",
        "def restructure_essay(essay, essay_type):\n",
        "    sentences = sent_tokenize(essay)\n",
        "\n",
        "    if essay_type == \"Leadership\":\n",
        "        structure = [\"Introduction\", \"First Example\", \"Second Example\", \"Third Example\", \"Conclusion\"]\n",
        "    elif essay_type == \"Networking\":\n",
        "        structure = [\"Introduction\", \"First Example\", \"Second Example\", \"Third Example\", \"Conclusion\"]\n",
        "    elif essay_type == \"Study in the UK\":\n",
        "        structure = [\"Introduction\", \"First School\", \"Second School\", \"Third School\", \"Conclusion\"]\n",
        "    elif essay_type == \"Career Plan\":\n",
        "        structure = [\"Introduction\", \"Short Plan\", \"Mid Plan\", \"Long Term Plan\", \"Conclusion\"]\n",
        "    else:\n",
        "        return \"Invalid Essay Type\"\n",
        "\n",
        "    random.shuffle(sentences)\n",
        "\n",
        "    structured_essay = {section: [] for section in structure}\n",
        "    section_idx = 0\n",
        "    for sentence in sentences:\n",
        "        structured_essay[structure[section_idx]].append(sentence)\n",
        "        section_idx = (section_idx + 1) % len(structure)\n",
        "\n",
        "    return structured_essay\n",
        "\n",
        "def main():\n",
        "    st.title(\"Global Wins - Chevening Essay Restructurer\")\n",
        "\n",
        "    essay_type = st.selectbox(\"Choose Essay Type\", [\"Leadership\", \"Networking\", \"Study in the UK\", \"Career Plan\"])\n",
        "\n",
        "    essay_input = st.text_area(\"Paste Your Essay Here:\")\n",
        "\n",
        "    if st.button(\"Restructure Essay\"):\n",
        "        if essay_input:\n",
        "            result = restructure_essay(essay_input, essay_type)\n",
        "            st.write(\"Restructured Essay:\")\n",
        "            for section, content in result.items():\n",
        "                st.subheader(section)\n",
        "                st.write(\" \".join(content))\n",
        "        else:\n",
        "            st.error(\"Please enter an essay to restructure.\")\n",
        "\n",
        "if __name__ == \"__main__\":\n",
        "    main()\n",
        "\"\"\"\n",
        "\n",
        "# Write to a file and run Streamlit\n",
        "with open(\"global_wins.py\", \"w\") as file:\n",
        "    file.write(streamlit_code)\n",
        "\n",
        "# Run the app\n",
        "os.system(\"streamlit run global_wins.py &\")\n",
        "\n",
        "# Display the public URL\n",
        "public_url\n"
      ],
      "metadata": {
        "colab": {
          "base_uri": "https://localhost:8080/"
        },
        "id": "a2w_B4c-Krop",
        "outputId": "14bbfe8f-9f18-458c-b4d7-ee164091e08e"
      },
      "execution_count": 68,
      "outputs": [
        {
          "output_type": "execute_result",
          "data": {
            "text/plain": [
              "<NgrokTunnel: \"https://9c8e-35-221-152-62.ngrok-free.app\" -> \"http://localhost:8501\">"
            ]
          },
          "metadata": {},
          "execution_count": 68
        }
      ]
    },
    {
      "cell_type": "code",
      "source": [],
      "metadata": {
        "id": "pJttNmBIKruG"
      },
      "execution_count": null,
      "outputs": []
    }
  ]
}